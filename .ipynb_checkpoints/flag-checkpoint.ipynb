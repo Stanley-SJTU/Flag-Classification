{
 "cells": [
  {
   "cell_type": "code",
   "execution_count": 2,
   "metadata": {},
   "outputs": [],
   "source": [
    "import pandas as pd\n"
   ]
  },
  {
   "cell_type": "code",
   "execution_count": 3,
   "metadata": {},
   "outputs": [],
   "source": [
    "flag_data = pd.read_csv('flag.csv')"
   ]
  },
  {
   "cell_type": "code",
   "execution_count": 12,
   "metadata": {},
   "outputs": [],
   "source": [
    "# Method 1 for pre-processing\n",
    "\n",
    "from sklearn.preprocessing import LabelEncoder \n",
    "le = LabelEncoder()\n",
    "\n",
    "# transform each categorical column into numerical\n",
    "flag_data_mainhue = le.fit_transform(flag_data['mainhue'])\n",
    "flag_data_topleft = le.fit_transform(flag_data['topleft'])\n",
    "flag_data_botright = le.fit_transform(flag_data['botright'])\n",
    "\n",
    "# replace the original columns\n",
    "flag_data_m1 = flag_data\n",
    "flag_data_m1['mainhue'] = flag_data_mainhue\n",
    "flag_data_m1['topleft'] = flag_data_topleft\n",
    "flag_data_m1['botright'] = flag_data_botright"
   ]
  },
  {
   "cell_type": "code",
   "execution_count": null,
   "metadata": {},
   "outputs": [],
   "source": [
    "# using isnull() to check if there are nan values"
   ]
  },
  {
   "cell_type": "code",
   "execution_count": 16,
   "metadata": {},
   "outputs": [],
   "source": [
    "# prepare the inputs and targets for machine learning\n",
    "flag_y = flag_data_m1['religion']\n",
    "flag_x = flag_data_m1.drop('religion', axis=1)"
   ]
  },
  {
   "cell_type": "code",
   "execution_count": 23,
   "metadata": {},
   "outputs": [
    {
     "data": {
      "text/plain": [
       "1    60\n",
       "0    40\n",
       "2    36\n",
       "5    27\n",
       "6    15\n",
       "3     8\n",
       "7     4\n",
       "4     4\n",
       "Name: religion, dtype: int64"
      ]
     },
     "execution_count": 23,
     "metadata": {},
     "output_type": "execute_result"
    }
   ],
   "source": [
    "flag_data_m1['religion'].value_counts()"
   ]
  },
  {
   "cell_type": "code",
   "execution_count": 18,
   "metadata": {},
   "outputs": [],
   "source": [
    "from sklearn.model_selection import train_test_split\n",
    "\n",
    "x_train, x_test, y_train, y_test = train_test_split(flag_x.values, flag_y.values, random_state=1, test_size = 0.30)"
   ]
  },
  {
   "cell_type": "code",
   "execution_count": 28,
   "metadata": {},
   "outputs": [
    {
     "data": {
      "text/plain": [
       "Counter({1: 20, 5: 8, 0: 11, 2: 15, 3: 2, 4: 1, 7: 1, 6: 1})"
      ]
     },
     "execution_count": 28,
     "metadata": {},
     "output_type": "execute_result"
    }
   ],
   "source": [
    "import collections\n",
    "\n",
    "collections.Counter(y_test)"
   ]
  },
  {
   "cell_type": "code",
   "execution_count": 21,
   "metadata": {},
   "outputs": [
    {
     "name": "stdout",
     "output_type": "stream",
     "text": [
      "[[ 7  3  1  0  0  0  0  0]\n",
      " [ 0 17  0  0  0  2  1  0]\n",
      " [ 2  7  6  0  0  0  0  0]\n",
      " [ 0  2  0  0  0  0  0  0]\n",
      " [ 0  1  0  0  0  0  0  0]\n",
      " [ 3  3  1  0  0  0  1  0]\n",
      " [ 0  1  0  0  0  0  0  0]\n",
      " [ 0  1  0  0  0  0  0  0]]\n",
      "              precision    recall  f1-score   support\n",
      "\n",
      "           0       0.58      0.64      0.61        11\n",
      "           1       0.49      0.85      0.62        20\n",
      "           2       0.75      0.40      0.52        15\n",
      "           3       0.00      0.00      0.00         2\n",
      "           4       0.00      0.00      0.00         1\n",
      "           5       0.00      0.00      0.00         8\n",
      "           6       0.00      0.00      0.00         1\n",
      "           7       0.00      0.00      0.00         1\n",
      "\n",
      "   micro avg       0.51      0.51      0.51        59\n",
      "   macro avg       0.23      0.24      0.22        59\n",
      "weighted avg       0.46      0.51      0.46        59\n",
      "\n"
     ]
    },
    {
     "name": "stderr",
     "output_type": "stream",
     "text": [
      "D:\\Anaconda\\lib\\site-packages\\sklearn\\metrics\\classification.py:1143: UndefinedMetricWarning: Precision and F-score are ill-defined and being set to 0.0 in labels with no predicted samples.\n",
      "  'precision', 'predicted', average, warn_for)\n"
     ]
    }
   ],
   "source": [
    "from sklearn.svm import SVC\n",
    "from sklearn.metrics import classification_report, confusion_matrix\n",
    "\n",
    "clf = SVC(kernel='rbf', gamma='auto') # \n",
    "clf.fit(x_train, y_train)\n",
    "\n",
    "y_pred = clf.predict(x_test)\n",
    "\n",
    "print(confusion_matrix(y_test,y_pred))\n",
    "print(classification_report(y_test,y_pred))"
   ]
  },
  {
   "cell_type": "code",
   "execution_count": 24,
   "metadata": {},
   "outputs": [
    {
     "name": "stdout",
     "output_type": "stream",
     "text": [
      "[[ 5  1  1  0  0  0  4  0]\n",
      " [ 1 15  1  0  0  1  2  0]\n",
      " [ 0  2 10  0  0  2  1  0]\n",
      " [ 0  2  0  0  0  0  0  0]\n",
      " [ 0  1  0  0  0  0  0  0]\n",
      " [ 1  2  0  0  0  3  2  0]\n",
      " [ 0  0  0  0  0  0  1  0]\n",
      " [ 1  0  0  0  0  0  0  0]]\n",
      "              precision    recall  f1-score   support\n",
      "\n",
      "           0       0.62      0.45      0.53        11\n",
      "           1       0.65      0.75      0.70        20\n",
      "           2       0.83      0.67      0.74        15\n",
      "           3       0.00      0.00      0.00         2\n",
      "           4       0.00      0.00      0.00         1\n",
      "           5       0.50      0.38      0.43         8\n",
      "           6       0.10      1.00      0.18         1\n",
      "           7       0.00      0.00      0.00         1\n",
      "\n",
      "   micro avg       0.58      0.58      0.58        59\n",
      "   macro avg       0.34      0.41      0.32        59\n",
      "weighted avg       0.62      0.58      0.58        59\n",
      "\n"
     ]
    },
    {
     "name": "stderr",
     "output_type": "stream",
     "text": [
      "D:\\Anaconda\\lib\\site-packages\\sklearn\\metrics\\classification.py:1143: UndefinedMetricWarning: Precision and F-score are ill-defined and being set to 0.0 in labels with no predicted samples.\n",
      "  'precision', 'predicted', average, warn_for)\n"
     ]
    }
   ],
   "source": [
    "from sklearn.ensemble import RandomForestClassifier\n",
    "from sklearn.metrics import classification_report, confusion_matrix\n",
    "\n",
    "clf = RandomForestClassifier(n_estimators=1000,max_features=4)  # square root of number of features \n",
    "clf = clf.fit(x_train, y_train)\n",
    "\n",
    "y_pred = clf.predict(x_test)\n",
    "\n",
    "print(confusion_matrix(y_test,y_pred))\n",
    "print(classification_report(y_test,y_pred))"
   ]
  },
  {
   "cell_type": "code",
   "execution_count": null,
   "metadata": {},
   "outputs": [],
   "source": []
  }
 ],
 "metadata": {
  "kernelspec": {
   "display_name": "Python 3",
   "language": "python",
   "name": "python3"
  },
  "language_info": {
   "codemirror_mode": {
    "name": "ipython",
    "version": 3
   },
   "file_extension": ".py",
   "mimetype": "text/x-python",
   "name": "python",
   "nbconvert_exporter": "python",
   "pygments_lexer": "ipython3",
   "version": "3.7.3"
  }
 },
 "nbformat": 4,
 "nbformat_minor": 2
}
