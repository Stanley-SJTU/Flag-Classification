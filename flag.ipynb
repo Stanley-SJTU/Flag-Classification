{
 "cells": [
  {
   "cell_type": "code",
   "execution_count": 1,
   "metadata": {},
   "outputs": [],
   "source": [
    "import pandas as pd\n"
   ]
  },
  {
   "cell_type": "code",
   "execution_count": 16,
   "metadata": {},
   "outputs": [],
   "source": [
    "flag_data = pd.read_csv('flag.csv')"
   ]
  },
  {
   "cell_type": "code",
   "execution_count": 23,
   "metadata": {},
   "outputs": [],
   "source": [
    "# Method 1 for pre-processing\n",
    "\n",
    "from sklearn.preprocessing import LabelEncoder \n",
    "le = LabelEncoder()\n",
    "\n",
    "# transform each categorical column into numerical\n",
    "flag_data_mainhue = le.fit_transform(flag_data['mainhue'])\n",
    "flag_data_topleft = le.fit_transform(flag_data['topleft'])\n",
    "flag_data_botright = le.fit_transform(flag_data['botright'])\n",
    "\n",
    "# replace the original columns\n",
    "flag_data_m1 = flag_data\n",
    "flag_data_m1['mainhue'] = flag_data_mainhue\n",
    "flag_data_m1['topleft'] = flag_data_topleft\n",
    "flag_data_m1['botright'] = flag_data_botright"
   ]
  },
  {
   "cell_type": "code",
   "execution_count": null,
   "metadata": {},
   "outputs": [],
   "source": [
    "# using isnull() to check if there are nan values"
   ]
  },
  {
   "cell_type": "code",
   "execution_count": 24,
   "metadata": {},
   "outputs": [],
   "source": [
    "# prepare the inputs and targets for machine learning\n",
    "flag_y = flag_data_m1['religion']\n",
    "flag_x = flag_data_m1.drop('religion', axis=1)"
   ]
  },
  {
   "cell_type": "code",
   "execution_count": 23,
   "metadata": {},
   "outputs": [
    {
     "data": {
      "text/plain": [
       "1    60\n",
       "0    40\n",
       "2    36\n",
       "5    27\n",
       "6    15\n",
       "3     8\n",
       "7     4\n",
       "4     4\n",
       "Name: religion, dtype: int64"
      ]
     },
     "execution_count": 23,
     "metadata": {},
     "output_type": "execute_result"
    }
   ],
   "source": [
    "flag_data_m1['religion'].value_counts()"
   ]
  },
  {
   "cell_type": "code",
   "execution_count": 27,
   "metadata": {},
   "outputs": [
    {
     "name": "stderr",
     "output_type": "stream",
     "text": [
      "D:\\Anaconda\\lib\\site-packages\\sklearn\\utils\\deprecation.py:87: FutureWarning: Function safe_indexing is deprecated; safe_indexing is deprecated in version 0.22 and will be removed in version 0.24.\n",
      "  warnings.warn(msg, category=FutureWarning)\n"
     ]
    }
   ],
   "source": [
    "# Oversampling, just for testing\n",
    "\n",
    "from imblearn.over_sampling import RandomOverSampler\n",
    "ros = RandomOverSampler(random_state=0)\n",
    "x_resampled, y_resampled = ros.fit_resample(flag_x, flag_y)"
   ]
  },
  {
   "cell_type": "code",
   "execution_count": 30,
   "metadata": {},
   "outputs": [
    {
     "name": "stdout",
     "output_type": "stream",
     "text": [
      "[(0, 60), (1, 60), (2, 60), (3, 60), (4, 60), (5, 60), (6, 60), (7, 60)]\n"
     ]
    }
   ],
   "source": [
    "import collections\n",
    "print(sorted(collections.Counter(y_resampled).items()))"
   ]
  },
  {
   "cell_type": "code",
   "execution_count": 32,
   "metadata": {},
   "outputs": [],
   "source": [
    "from sklearn.model_selection import train_test_split\n",
    "\n",
    "x_train, x_test, y_train, y_test = train_test_split(x_resampled, y_resampled, random_state=1, test_size = 0.30)"
   ]
  },
  {
   "cell_type": "code",
   "execution_count": 28,
   "metadata": {},
   "outputs": [
    {
     "data": {
      "text/plain": [
       "Counter({1: 20, 5: 8, 0: 11, 2: 15, 3: 2, 4: 1, 7: 1, 6: 1})"
      ]
     },
     "execution_count": 28,
     "metadata": {},
     "output_type": "execute_result"
    }
   ],
   "source": [
    "import collections\n",
    "\n",
    "collections.Counter(y_test)"
   ]
  },
  {
   "cell_type": "code",
   "execution_count": null,
   "metadata": {},
   "outputs": [],
   "source": []
  },
  {
   "cell_type": "code",
   "execution_count": 26,
   "metadata": {},
   "outputs": [
    {
     "name": "stdout",
     "output_type": "stream",
     "text": [
      "[[ 5  3  1  1  0  0  1  0]\n",
      " [ 3 11  0  2  1  1  2  0]\n",
      " [ 1  3  6  2  0  2  1  0]\n",
      " [ 0  2  0  0  0  0  0  0]\n",
      " [ 0  1  0  0  0  0  0  0]\n",
      " [ 2  3  1  0  0  1  1  0]\n",
      " [ 0  0  0  0  0  0  1  0]\n",
      " [ 1  0  0  0  0  0  0  0]]\n",
      "              precision    recall  f1-score   support\n",
      "\n",
      "           0       0.42      0.45      0.43        11\n",
      "           1       0.48      0.55      0.51        20\n",
      "           2       0.75      0.40      0.52        15\n",
      "           3       0.00      0.00      0.00         2\n",
      "           4       0.00      0.00      0.00         1\n",
      "           5       0.25      0.12      0.17         8\n",
      "           6       0.17      1.00      0.29         1\n",
      "           7       0.00      0.00      0.00         1\n",
      "\n",
      "    accuracy                           0.41        59\n",
      "   macro avg       0.26      0.32      0.24        59\n",
      "weighted avg       0.47      0.41      0.41        59\n",
      "\n"
     ]
    },
    {
     "name": "stderr",
     "output_type": "stream",
     "text": [
      "D:\\Anaconda\\lib\\site-packages\\sklearn\\metrics\\_classification.py:1268: UndefinedMetricWarning: Precision and F-score are ill-defined and being set to 0.0 in labels with no predicted samples. Use `zero_division` parameter to control this behavior.\n",
      "  _warn_prf(average, modifier, msg_start, len(result))\n"
     ]
    }
   ],
   "source": [
    "from sklearn.svm import SVC\n",
    "from sklearn.metrics import classification_report, confusion_matrix\n",
    "\n",
    "clf = SVC(kernel='linear') # \n",
    "clf.fit(x_train, y_train)\n",
    "\n",
    "y_pred = clf.predict(x_test)\n",
    "\n",
    "print(confusion_matrix(y_test,y_pred))\n",
    "print(classification_report(y_test,y_pred))"
   ]
  },
  {
   "cell_type": "code",
   "execution_count": 33,
   "metadata": {},
   "outputs": [
    {
     "name": "stdout",
     "output_type": "stream",
     "text": [
      "[[11  2  0  0  0  2  1  0]\n",
      " [ 6  6  1  2  0  1  2  0]\n",
      " [ 1  0 12  0  0  1  0  0]\n",
      " [ 0  0  0 18  0  0  0  0]\n",
      " [ 0  0  0  0 22  0  0  0]\n",
      " [ 1  3  0  0  0 13  1  0]\n",
      " [ 0  0  0  0  0  0 18  0]\n",
      " [ 0  0  0  0  0  0  0 20]]\n",
      "              precision    recall  f1-score   support\n",
      "\n",
      "           0       0.58      0.69      0.63        16\n",
      "           1       0.55      0.33      0.41        18\n",
      "           2       0.92      0.86      0.89        14\n",
      "           3       0.90      1.00      0.95        18\n",
      "           4       1.00      1.00      1.00        22\n",
      "           5       0.76      0.72      0.74        18\n",
      "           6       0.82      1.00      0.90        18\n",
      "           7       1.00      1.00      1.00        20\n",
      "\n",
      "    accuracy                           0.83       144\n",
      "   macro avg       0.82      0.83      0.82       144\n",
      "weighted avg       0.82      0.83      0.82       144\n",
      "\n"
     ]
    }
   ],
   "source": [
    "from sklearn.ensemble import RandomForestClassifier\n",
    "from sklearn.metrics import classification_report, confusion_matrix\n",
    "\n",
    "clf = RandomForestClassifier(n_estimators=1000,max_features=4)  # square root of number of features \n",
    "clf = clf.fit(x_train, y_train)\n",
    "\n",
    "y_pred = clf.predict(x_test)\n",
    "\n",
    "print(confusion_matrix(y_test,y_pred))\n",
    "print(classification_report(y_test,y_pred))"
   ]
  },
  {
   "cell_type": "code",
   "execution_count": 18,
   "metadata": {},
   "outputs": [],
   "source": [
    "# Method 2 for pre-processing, dummy\n",
    "\n",
    "flag_data_m2 = pd.get_dummies(flag_data)\n"
   ]
  },
  {
   "cell_type": "code",
   "execution_count": 20,
   "metadata": {},
   "outputs": [],
   "source": [
    "# prepare the inputs and targets for machine learning\n",
    "flag_y = flag_data_m2['religion']\n",
    "flag_x = flag_data_m2.drop('religion', axis=1)"
   ]
  },
  {
   "cell_type": "code",
   "execution_count": 21,
   "metadata": {},
   "outputs": [],
   "source": [
    "from sklearn.model_selection import train_test_split\n",
    "\n",
    "x_train, x_test, y_train, y_test = train_test_split(flag_x.values, flag_y.values, random_state=1, test_size = 0.30)"
   ]
  },
  {
   "cell_type": "code",
   "execution_count": 22,
   "metadata": {},
   "outputs": [
    {
     "name": "stdout",
     "output_type": "stream",
     "text": [
      "[[ 6  2  1  0  0  0  2  0]\n",
      " [ 1 16  0  0  0  1  2  0]\n",
      " [ 1  3  9  0  0  1  1  0]\n",
      " [ 0  2  0  0  0  0  0  0]\n",
      " [ 0  1  0  0  0  0  0  0]\n",
      " [ 1  2  3  0  0  1  1  0]\n",
      " [ 0  0  0  0  0  0  1  0]\n",
      " [ 0  1  0  0  0  0  0  0]]\n",
      "              precision    recall  f1-score   support\n",
      "\n",
      "           0       0.67      0.55      0.60        11\n",
      "           1       0.59      0.80      0.68        20\n",
      "           2       0.69      0.60      0.64        15\n",
      "           3       0.00      0.00      0.00         2\n",
      "           4       0.00      0.00      0.00         1\n",
      "           5       0.33      0.12      0.18         8\n",
      "           6       0.14      1.00      0.25         1\n",
      "           7       0.00      0.00      0.00         1\n",
      "\n",
      "    accuracy                           0.56        59\n",
      "   macro avg       0.30      0.38      0.29        59\n",
      "weighted avg       0.55      0.56      0.53        59\n",
      "\n"
     ]
    },
    {
     "name": "stderr",
     "output_type": "stream",
     "text": [
      "D:\\Anaconda\\lib\\site-packages\\sklearn\\metrics\\_classification.py:1268: UndefinedMetricWarning: Precision and F-score are ill-defined and being set to 0.0 in labels with no predicted samples. Use `zero_division` parameter to control this behavior.\n",
      "  _warn_prf(average, modifier, msg_start, len(result))\n"
     ]
    }
   ],
   "source": [
    "from sklearn.ensemble import RandomForestClassifier\n",
    "from sklearn.metrics import classification_report, confusion_matrix\n",
    "\n",
    "clf = RandomForestClassifier(n_estimators=1000,max_features=4)  # square root of number of features \n",
    "clf = clf.fit(x_train, y_train)\n",
    "\n",
    "y_pred = clf.predict(x_test)\n",
    "\n",
    "print(confusion_matrix(y_test,y_pred))\n",
    "print(classification_report(y_test,y_pred))"
   ]
  },
  {
   "cell_type": "code",
   "execution_count": null,
   "metadata": {},
   "outputs": [],
   "source": []
  }
 ],
 "metadata": {
  "kernelspec": {
   "display_name": "Python 3",
   "language": "python",
   "name": "python3"
  },
  "language_info": {
   "codemirror_mode": {
    "name": "ipython",
    "version": 3
   },
   "file_extension": ".py",
   "mimetype": "text/x-python",
   "name": "python",
   "nbconvert_exporter": "python",
   "pygments_lexer": "ipython3",
   "version": "3.7.3"
  }
 },
 "nbformat": 4,
 "nbformat_minor": 2
}
